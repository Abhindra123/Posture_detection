{
  "nbformat": 4,
  "nbformat_minor": 0,
  "metadata": {
    "colab": {
      "provenance": []
    },
    "kernelspec": {
      "name": "python3",
      "display_name": "Python 3"
    },
    "language_info": {
      "name": "python"
    }
  },
  "cells": [
    {
      "cell_type": "code",
      "source": [
        "import cv2\n",
        "\n",
        "video = cv2.VideoCapture('FullSizeRender.MOV')\n",
        "face_cascade = cv2.CascadeClassifier(cv2.data.haarcascades + \"haarcascade_frontalface_default.xml\")\n",
        "\n",
        "while True:\n",
        "    success, img = video.read()\n",
        "    img= cv2.resize(img, (0, 0), None, 0.35, 0.35)\n",
        "    faces = face_cascade.detectMultiScale(img, 1.3, 4)\n",
        "    for (x, y, w, h) in faces:\n",
        "        ROI = img[y:y+h, x:x+w]\n",
        "\n",
        "        blur = cv2.GaussianBlur(ROI, (99, 99), 0)\n",
        "        img[y:y+h, x:x+w] = blur\n",
        "\n",
        "    cv2.imshow(\"Blurred Face\", img)\n",
        "    if cv2.waitKey(1) & 0xff == ord('q'):\n",
        "        break\n",
        "\n",
        "video.release()\n",
        "cv2.destroyAllWindows()"
      ],
      "metadata": {
        "id": "3xwHoifdweau"
      },
      "execution_count": null,
      "outputs": []
    }
  ]
}